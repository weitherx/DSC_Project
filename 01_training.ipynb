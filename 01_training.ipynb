{
 "cells": [
  {
   "cell_type": "markdown",
   "id": "10d3ca7f",
   "metadata": {},
   "source": [
    "### Import"
   ]
  },
  {
   "cell_type": "code",
   "execution_count": 1,
   "id": "6478a3c3",
   "metadata": {},
   "outputs": [],
   "source": [
    "import pandas as pd\n",
    "import numpy as np\n",
    "\n",
    "from sklearn.compose import ColumnTransformer\n",
    "from sklearn.pipeline import Pipeline\n",
    "from sklearn.impute import SimpleImputer\n",
    "from sklearn.preprocessing import OneHotEncoder\n",
    "from sklearn.metrics import mean_squared_error, mean_absolute_error\n",
    "from sklearn.model_selection import GroupShuffleSplit\n",
    "from sklearn.metrics import accuracy_score, classification_report\n",
    "\n",
    "from lightgbm import LGBMRegressor\n",
    "      # swap for RandomForestRegressor / XGBRegressor if desired"
   ]
  },
  {
   "cell_type": "code",
   "execution_count": 2,
   "id": "0516e2cc",
   "metadata": {},
   "outputs": [
    {
     "name": "stderr",
     "output_type": "stream",
     "text": [
      "C:\\Users\\USER\\AppData\\Local\\Temp\\ipykernel_18368\\3387927991.py:1: DtypeWarning: Columns (5,8,11,14,56,81) have mixed types. Specify dtype option on import or set low_memory=False.\n",
      "  df_main = pd.read_csv(r'C:\\Users\\USER\\OneDrive\\Documents\\DSC_Project\\20250517_資料集\\一般訂單\\main.csv')\n"
     ]
    }
   ],
   "source": [
    "df_main = pd.read_csv(r'C:\\Users\\USER\\OneDrive\\Documents\\DSC_Project\\20250517_資料集\\一般訂單\\main.csv')"
   ]
  },
  {
   "cell_type": "markdown",
   "id": "764e1ac7",
   "metadata": {},
   "source": [
    "### Feature engineering"
   ]
  },
  {
   "cell_type": "code",
   "execution_count": 3,
   "id": "ba151bf0",
   "metadata": {},
   "outputs": [
    {
     "data": {
      "text/plain": [
       "0        2021-12-14\n",
       "1        2021-12-14\n",
       "2        2021-12-14\n",
       "3        2021-12-14\n",
       "4        2021-12-14\n",
       "            ...    \n",
       "27808    2021-12-14\n",
       "27809    2021-12-14\n",
       "27810    2021-12-14\n",
       "27811    2021-12-14\n",
       "27812    2021-12-14\n",
       "Name: only_date, Length: 27813, dtype: object"
      ]
     },
     "execution_count": 3,
     "metadata": {},
     "output_type": "execute_result"
    }
   ],
   "source": [
    "df_date_only = df_main['createdAt']\n",
    "df_date_only = pd.to_datetime(df_date_only)\n",
    "df_date_only =df_date_only.dt.date\n",
    "\n",
    "df_main['only_date'] = df_date_only\n",
    "df_main['only_date']"
   ]
  },
  {
   "cell_type": "code",
   "execution_count": 4,
   "id": "64d885c8",
   "metadata": {},
   "outputs": [
    {
     "data": {
      "text/plain": [
       "25380    3.0\n",
       "25384    3.0\n",
       "25399    1.0\n",
       "25403    4.0\n",
       "25446    2.0\n",
       "        ... \n",
       "19822    NaN\n",
       "19823    NaN\n",
       "19824    NaN\n",
       "19825    NaN\n",
       "19828    NaN\n",
       "Name: days_until_next_order, Length: 27813, dtype: float64"
      ]
     },
     "execution_count": 4,
     "metadata": {},
     "output_type": "execute_result"
    }
   ],
   "source": [
    "# 透過訂單編號，去計算顧客再下訂單的時間\n",
    "df_main = df_main.sort_values(['user_oid', 'only_date'])\n",
    "df_main['only_date'] = pd.to_datetime(df_main['only_date'])\n",
    "df_main['next_order_date'] =  df_main.groupby('user_oid')['only_date'].shift(-1)\n",
    "df_main['next_order_date'] = pd.to_datetime(df_main['next_order_date'])\n",
    "\n",
    "df_main['days_until_next_order'] = (df_main['next_order_date'] - df_main['only_date']).dt.days\n",
    "df_main['days_until_next_order']"
   ]
  },
  {
   "cell_type": "markdown",
   "id": "3b8225db",
   "metadata": {},
   "source": [
    "### Data preperation"
   ]
  },
  {
   "cell_type": "code",
   "execution_count": null,
   "id": "95edf5a8",
   "metadata": {},
   "outputs": [],
   "source": [
    "#list the columns you plan to learn from\n",
    "num_cols = ['subtotal', 'travelingExpense', 'discountNum']\n",
    "\n",
    "cat_cols = ['defaultPaymentMethod', 'mode', 'serviceClassificationName', 'state',\n",
    "            'address_county', 'address_district', 'discount_type', 'isServicePackageBooking']\n",
    "\n",
    "X = df_main[num_cols + cat_cols].copy()      # features only\n",
    "y = df_main['days_until_next_order'].copy()\n",
    "# y = y.notna().astype(int)\n",
    "# y = (df_main[\"days_until_next_order\"] > 0).astype(int)\n",
    "y = y.apply(lambda x: 0 if pd.isna(x) else 1)\n",
    "groups = df_main[\"user_oid\"]\n"
   ]
  },
  {
   "cell_type": "markdown",
   "id": "fd511550",
   "metadata": {},
   "source": [
    "### Minimal preprocessing block"
   ]
  },
  {
   "cell_type": "code",
   "execution_count": 6,
   "id": "12303947",
   "metadata": {},
   "outputs": [],
   "source": [
    "# ⬇️ assumes you have already defined `num_cols` and `cat_cols`\n",
    "prep = ColumnTransformer(\n",
    "    transformers=[\n",
    "        ('num', SimpleImputer(strategy='median'), num_cols),\n",
    "        ('cat', Pipeline(steps=[\n",
    "            ('imp', SimpleImputer(strategy='constant', fill_value='missing')),\n",
    "            ('ohe', OneHotEncoder(handle_unknown='ignore', sparse_output=True))\n",
    "        ]), cat_cols)\n",
    "    ],\n",
    "    remainder='drop'      # drop any column not listed above\n",
    ")"
   ]
  },
  {
   "cell_type": "markdown",
   "id": "80c6db3a",
   "metadata": {},
   "source": [
    "### Model and Pipline"
   ]
  },
  {
   "cell_type": "code",
   "execution_count": 7,
   "id": "1358a0ef",
   "metadata": {},
   "outputs": [],
   "source": [
    "lgbm = LGBMRegressor(objective='binary',\n",
    "                     n_estimators=400,\n",
    "                     learning_rate=0.05,\n",
    "                     num_leaves=63,\n",
    "                     random_state=42)\n",
    "\n",
    "pipe = Pipeline([('prep', prep), ('model', lgbm)])"
   ]
  },
  {
   "cell_type": "markdown",
   "id": "740fbb6a",
   "metadata": {},
   "source": [
    "### Train / Test split"
   ]
  },
  {
   "cell_type": "code",
   "execution_count": 8,
   "id": "f9543ed8",
   "metadata": {},
   "outputs": [],
   "source": [
    "gss = GroupShuffleSplit(n_splits=1, test_size=0.20, random_state=42)\n",
    "train_idx, test_idx = next(gss.split(X, y, groups=groups))"
   ]
  },
  {
   "cell_type": "markdown",
   "id": "0746cc1e",
   "metadata": {},
   "source": [
    "### Fit and Eval"
   ]
  },
  {
   "cell_type": "code",
   "execution_count": 9,
   "id": "a5db5cbc",
   "metadata": {},
   "outputs": [
    {
     "name": "stdout",
     "output_type": "stream",
     "text": [
      "[LightGBM] [Info] Number of positive: 8018, number of negative: 14236\n",
      "[LightGBM] [Info] Auto-choosing row-wise multi-threading, the overhead of testing was 0.001921 seconds.\n",
      "You can set `force_row_wise=true` to remove the overhead.\n",
      "And if memory is not enough, you can set `force_col_wise=true`.\n",
      "[LightGBM] [Info] Total Bins 572\n",
      "[LightGBM] [Info] Number of data points in the train set: 22254, number of used features: 149\n",
      "[LightGBM] [Info] [binary:BoostFromScore]: pavg=0.360295 -> initscore=-0.574085\n",
      "[LightGBM] [Info] Start training from score -0.574085\n",
      "RMSE : 0.19\n",
      "MAE  : 0.36\n"
     ]
    },
    {
     "name": "stderr",
     "output_type": "stream",
     "text": [
      "c:\\Users\\USER\\OneDrive\\Documents\\DSC_Project\\.venv\\Lib\\site-packages\\sklearn\\utils\\validation.py:2739: UserWarning: X does not have valid feature names, but LGBMRegressor was fitted with feature names\n",
      "  warnings.warn(\n"
     ]
    }
   ],
   "source": [
    "pipe.fit(X.iloc[train_idx], y.iloc[train_idx])\n",
    "\n",
    "pred = pipe.predict(X.iloc[test_idx])\n",
    "print(f\"RMSE : {mean_squared_error(y.iloc[test_idx], pred):.2f}\")\n",
    "print(f\"MAE  : {mean_absolute_error(y.iloc[test_idx], pred):.2f}\")\n"
   ]
  }
 ],
 "metadata": {
  "kernelspec": {
   "display_name": ".venv",
   "language": "python",
   "name": "python3"
  },
  "language_info": {
   "codemirror_mode": {
    "name": "ipython",
    "version": 3
   },
   "file_extension": ".py",
   "mimetype": "text/x-python",
   "name": "python",
   "nbconvert_exporter": "python",
   "pygments_lexer": "ipython3",
   "version": "3.11.9"
  }
 },
 "nbformat": 4,
 "nbformat_minor": 5
}
